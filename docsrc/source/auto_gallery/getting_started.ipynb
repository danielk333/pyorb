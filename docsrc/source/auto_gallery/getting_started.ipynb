{
  "cells": [
    {
      "cell_type": "code",
      "execution_count": null,
      "metadata": {
        "collapsed": false
      },
      "outputs": [],
      "source": [
        "%matplotlib inline"
      ]
    },
    {
      "cell_type": "markdown",
      "metadata": {},
      "source": [
        "\nGet started tutorial\n=========================\n"
      ]
    },
    {
      "cell_type": "code",
      "execution_count": null,
      "metadata": {
        "collapsed": false
      },
      "outputs": [],
      "source": [
        "import pyorb\n\n#We first create a standard orbit around the sun in SI units\norb = pyorb.Orbit(M0 = pyorb.M_sol)\n\n#Lets switch to degrees for more human readable units, this can also be given \n# at orbit creation as a keyword parameter\norb.degrees = True\n\n#Currently the orbit has no values\nprint(orb)\nprint('\\n')\n\n#give it a circular orbit in the plane\norb.update(a=1*pyorb.AU, e=0, i=0, omega=0, Omega=0, anom=0)\nprint(orb)\nprint(f'Orbital period: {orb.period/(3600.0*24)} days')\nprint('\\n')\n\n#Now as soon as we try to look at any cartesian elements \n# the orbit will be transformed to cartesian space and the \n# Cartesian elements are stored\nprint(f'Orbit X-position is {orb.x*1e-3} km')\nprint(f'Orbit velocity vector is {orb.v*1e-3} km/s')\nprint(orb)\nprint('\\n')\n\n#However, if we change one of the cartesian variables\norb.x += 0.1*pyorb.AU\n\n#A flag will be raised in the class internally that \n# the kepler elements needs recalculation\n\n#Converting a orbit instance to a string is \n# intentionally **not** triggering a re-calculation\nprint(orb)\nprint('\\n')\n\n#When we then try to get the kepler elements they are automatically recalculated \nprint(f'New kepler elements {orb.kepler}')\nprint(orb)\nprint('\\n')\n\n#We can also create orbits with an arbitrary system of units\n\n#Some combinations are implement as standard, otherwise just pass a float \n# that describes the conversion between SI and your unit of choice\nG_au = pyorb.get_G(length='AU', mass='kg', time='s')\nprint(f'SI gravitation constant: {pyorb.G} m^3 kg^-1 s^-2')\nprint(f'Alternative gravitation constant: {G_au} AU^3 kg^-1 s^-2')\n\n\norb2 = pyorb.Orbit(M0 = pyorb.M_sol, G = G_au)\norb2.update(a=1, e=0, i=0, omega=0, Omega=0, anom=0)\n\n#To calculate cartesian elements without trying to access any of them simply \n# call the calculate_cartesian function\norb2.calculate_cartesian()\n\n#Now we see that both the velocity and positions have changed to AU and AU/s\nprint(orb2)\n\n#However, if we look at the orbital period, it is still given in seconds\nprint(f'Orbital period: {orb2.period/(3600.0*24)} days\\n')\n\n\n#We can also change this on the fly\n#A common system of units for dynamical astronomy is \n# Astronomical units-Solar masses-years\nG_ast = pyorb.get_G(length='AU', mass='Msol', time='y')\nprint(f'Astronomical gravitation constant: {G_ast} AU^3 Msol^-1 y^-2')\norb2.G = G_ast\n\n#We also need to update the central mass\norb2.M0 = 1.0\n\n#Since Kepler elements only have one variable with a physical quantity,\n# the semi-major-axis, this change only affects the cartesian elements.\n#Therefore we should recalculate the cartesian based on the current Keplerian\norb2.calculate_cartesian()\n\nprint(orb2)\nprint(f'Orbital period: {orb2.period} years')\n\n#The orbital speed should be approximately 2pi as this is the \n# circumference of a circle with radius 1 AU in units of AU\nprint(f'Orbital speed: {orb2.speed} AU/y')"
      ]
    }
  ],
  "metadata": {
    "kernelspec": {
      "display_name": "Python 3",
      "language": "python",
      "name": "python3"
    },
    "language_info": {
      "codemirror_mode": {
        "name": "ipython",
        "version": 3
      },
      "file_extension": ".py",
      "mimetype": "text/x-python",
      "name": "python",
      "nbconvert_exporter": "python",
      "pygments_lexer": "ipython3",
      "version": "3.7.0"
    }
  },
  "nbformat": 4,
  "nbformat_minor": 0
}