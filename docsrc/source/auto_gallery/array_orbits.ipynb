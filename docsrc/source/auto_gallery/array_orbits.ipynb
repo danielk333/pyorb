{
  "cells": [
    {
      "cell_type": "code",
      "execution_count": null,
      "metadata": {
        "collapsed": false
      },
      "outputs": [],
      "source": [
        "%matplotlib inline"
      ]
    },
    {
      "cell_type": "markdown",
      "metadata": {},
      "source": [
        "\nArray support\n===============\n"
      ]
    },
    {
      "cell_type": "code",
      "execution_count": null,
      "metadata": {
        "collapsed": false
      },
      "outputs": [],
      "source": [
        "import pyorb\n\nimport numpy as np\n\n#\n# THE MOST IMPORTANT THING\n# - properties act on ALL orbits in the class\n# - Only way to update individual orbits of a set is to use .update\n# - iterations are passive, the objects are copies from the array so the array itself is NOT modified\n\n\norb = pyorb.Orbit(M0 = pyorb.M_sol, degrees=True)\n\norb.allocate(10)\norb.update(a=np.linspace(0.5,2,num=10)*pyorb.AU, e=0, i=0, omega=0, Omega=0, anom=0)\n# print(orb)\n\norb.add(a=4*pyorb.AU)\norb.add(num=4, a=1*pyorb.AU, e=np.linspace(0,0.2,num=4))\nprint(orb.a/pyorb.AU)\nprint(orb.e)\nprint(orb)\nprint(orb[14])\n\nprint(orb._cart[0,:])\nprint(orb.x)\n\nprint(orb.eccentric_anomaly)\norb.eccentric_anomaly = np.linspace(0,360,num=len(orb))\nprint(orb.anom)\n\n# orb.update(inds=[2,3,4], anom=[0,45,90])\n# for o in orb[2:5]:\n#     print(o.r)\n\n# for o in orb[1:2]:\n#     print(o)\n\n# print(orb.x)\n\n# for o in orb[3:5]:\n#     print(o)\n\n\n# orb = pyorb.Orbit(M0 = pyorb.M_sol, degrees=True)\n# orb.update(a=1*pyorb.AU, e=0, i=0, omega=0, Omega=0, anom=45)\n\n# print(orb)"
      ]
    }
  ],
  "metadata": {
    "kernelspec": {
      "display_name": "Python 3",
      "language": "python",
      "name": "python3"
    },
    "language_info": {
      "codemirror_mode": {
        "name": "ipython",
        "version": 3
      },
      "file_extension": ".py",
      "mimetype": "text/x-python",
      "name": "python",
      "nbconvert_exporter": "python",
      "pygments_lexer": "ipython3",
      "version": "3.7.0"
    }
  },
  "nbformat": 4,
  "nbformat_minor": 0
}