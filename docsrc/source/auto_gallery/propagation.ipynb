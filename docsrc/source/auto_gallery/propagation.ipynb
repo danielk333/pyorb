{
  "cells": [
    {
      "cell_type": "code",
      "execution_count": null,
      "metadata": {
        "collapsed": false
      },
      "outputs": [],
      "source": [
        "%matplotlib inline"
      ]
    },
    {
      "cell_type": "markdown",
      "metadata": {},
      "source": [
        "\nPropagation\n============\n"
      ]
    },
    {
      "cell_type": "code",
      "execution_count": null,
      "metadata": {
        "collapsed": false
      },
      "outputs": [],
      "source": [
        "import pyorb\n\nimport numpy as np\nimport matplotlib.pyplot as plt\n\n#turn on TeX interperter\nplt.rc('text', usetex=True)\n\n#for reproducibility\nnp.random.seed(12398748)\n\n#We first create a standard orbit around the sun in SI units\n#We want it to be completely empty to start with so we set num=0\norb = pyorb.Orbit(M0 = pyorb.M_sol, num=0)\n\n#Create 10 equal orbits\norb.add(num=25, a=pyorb.AU, e=0, i=0, omega=0, Omega=0, anom=0)\n\n#calculate cartesian elements\norb.calculate_cartesian()\n\n#Add a symmetric Gaussian distribution on the velocity\nstd = 3e3\norb.vx += np.random.randn(orb.num)*std\norb.vy += np.random.randn(orb.num)*std\norb.vz += np.random.randn(orb.num)*std\n\n#Go back to kepler based on the cartesian\norb.calculate_kepler()\n\ndt = 3600*24.0*2\nnum = 400\n\nfig = plt.figure(figsize=(15,15))\nax = fig.add_subplot(111, projection='3d')\nfor o in orb:\n    r = np.empty((3,num))\n\n    for ti in range(num):\n        o.propagate(dt)\n        r[:,ti] = np.squeeze(o.r)/pyorb.AU\n\n    ax.plot(r[0,:], r[1,:], r[2,:],  '-b', alpha=0.5)\n\nax.set_title('Orbits', fontsize=22)\nax.set_xlabel('X-position $x$ [AU]', fontsize=20)\nax.set_ylabel('Y-position $y$ [AU]', fontsize=20)\nax.set_zlabel('Z-position $z$ [AU]', fontsize=20)\nax.view_init(14,-6)\nplt.show()"
      ]
    }
  ],
  "metadata": {
    "kernelspec": {
      "display_name": "Python 3",
      "language": "python",
      "name": "python3"
    },
    "language_info": {
      "codemirror_mode": {
        "name": "ipython",
        "version": 3
      },
      "file_extension": ".py",
      "mimetype": "text/x-python",
      "name": "python",
      "nbconvert_exporter": "python",
      "pygments_lexer": "ipython3",
      "version": "3.7.0"
    }
  },
  "nbformat": 4,
  "nbformat_minor": 0
}