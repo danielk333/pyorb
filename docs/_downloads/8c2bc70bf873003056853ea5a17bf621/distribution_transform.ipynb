{
  "cells": [
    {
      "cell_type": "code",
      "execution_count": null,
      "metadata": {
        "collapsed": false
      },
      "outputs": [],
      "source": [
        "%matplotlib inline"
      ]
    },
    {
      "cell_type": "markdown",
      "metadata": {},
      "source": [
        "\nDistribution transformation\n============================\n"
      ]
    },
    {
      "cell_type": "code",
      "execution_count": null,
      "metadata": {
        "collapsed": false
      },
      "outputs": [],
      "source": [
        "import pyorb\n\nimport numpy as np\nimport matplotlib.pyplot as plt\n\n#turn on TeX interperter\nplt.rc('text', usetex=True)\n\n#for reproducibility\nnp.random.seed(12398748)\n\n#We first create a standard orbit around the sun in SI units\norb = pyorb.Orbit(M0 = pyorb.M_sol)\n\n#Create 1000 equal orbits\norb.add(num=1000, a=pyorb.AU, e=0, i=0, omega=0, Omega=0, anom=0)\n#calculate cartesian elements\norb.calculate_cartesian()\n\n#Add a symmetric Gaussian distribution in the plane on the velocity\nstd = 3e3\norb.vx += np.random.randn(orb.num)*std\norb.vy += np.random.randn(orb.num)*std\n\n#now when we call any Keplerian element, the distribution in kepler space will be calculated automatically\n\nfig, axes = plt.subplots(1, 2, figsize=(10,6))\naxes[0].plot(orb.vx*1e-3, orb.vy*1e-3,'.')\naxes[0].set_title('Cartesian velocity', fontsize=22)\naxes[0].set_xlabel('X-velocity $v_x$ [km/s]', fontsize=20)\naxes[0].set_ylabel('Y-velocity $v_y$ [km/s]', fontsize=20)\n\naxes[1].plot(orb.a/pyorb.AU, orb.e, '.')\naxes[1].set_title('Keplerian orbital shape', fontsize=22)\naxes[1].set_xlabel('Semi-major axis $a$ [AU]', fontsize=20)\naxes[1].set_ylabel('Eccentricity $e$ [1]', fontsize=20)\n\nplt.show()"
      ]
    }
  ],
  "metadata": {
    "kernelspec": {
      "display_name": "Python 3",
      "language": "python",
      "name": "python3"
    },
    "language_info": {
      "codemirror_mode": {
        "name": "ipython",
        "version": 3
      },
      "file_extension": ".py",
      "mimetype": "text/x-python",
      "name": "python",
      "nbconvert_exporter": "python",
      "pygments_lexer": "ipython3",
      "version": "3.7.0"
    }
  },
  "nbformat": 4,
  "nbformat_minor": 0
}