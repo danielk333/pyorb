{
  "cells": [
    {
      "cell_type": "code",
      "execution_count": null,
      "metadata": {
        "collapsed": false
      },
      "outputs": [],
      "source": [
        "%matplotlib inline"
      ]
    },
    {
      "cell_type": "markdown",
      "metadata": {},
      "source": [
        "\nPerturbation by modifying elements\n===================================\n"
      ]
    },
    {
      "cell_type": "code",
      "execution_count": null,
      "metadata": {
        "collapsed": false
      },
      "outputs": [],
      "source": [
        "import pyorb\n\nimport numpy as np\nimport matplotlib.pyplot as plt\n\n#We first create a standard orbit around the sun in SI units\norb = pyorb.Orbit(\n    M0 = pyorb.M_sol,\n    a = 1*pyorb.AU,\n    e = 0.2,\n    i = 0,\n    omega = 0,\n    Omega = 0,\n    anom = 0,\n    degrees = True,\n)\nprint(orb)\n\n#prepare a propagation\ndt = 3600*24.0\nnum = 1000\nr = np.empty((3,num))\n\nfor ti in range(num):\n    orb.propagate(dt)\n\n    # We need to calculate all the perturbations before perturbing it\n\n    # Every step, perturb the inclination using the normalized velocity solar-component\n    di = dt*1e-6*(orb.v[:,0] @ orb.r[:,0])/(orb.velocity*np.linalg.norm(orb.r))\n    \n    #Also modify the semi-major axis for a funky looking orbit\n    da = (pyorb.AU - np.linalg.norm(orb.r))*dt*1e-7\n    orb.i += di\n    orb.a += da\n\n    #now when we call orb.r the cartesian elements will be recalculated\n    r[:,ti] = np.squeeze(orb.r)/pyorb.AU\n\n\nfig = plt.figure(figsize=(15,15))\nax = fig.add_subplot(111, projection='3d')\nax.plot(r[0,:], r[1,:], r[2,:],  '-b')\nax.set_title('Orbits', fontsize=22)\nax.set_xlabel('X-position $x$ [AU]', fontsize=20)\nax.set_ylabel('Y-position $y$ [AU]', fontsize=20)\nax.set_zlabel('Z-position $z$ [AU]', fontsize=20)\nax.view_init(14,-6)\nplt.show()"
      ]
    }
  ],
  "metadata": {
    "kernelspec": {
      "display_name": "Python 3",
      "language": "python",
      "name": "python3"
    },
    "language_info": {
      "codemirror_mode": {
        "name": "ipython",
        "version": 3
      },
      "file_extension": ".py",
      "mimetype": "text/x-python",
      "name": "python",
      "nbconvert_exporter": "python",
      "pygments_lexer": "ipython3",
      "version": "3.7.0"
    }
  },
  "nbformat": 4,
  "nbformat_minor": 0
}